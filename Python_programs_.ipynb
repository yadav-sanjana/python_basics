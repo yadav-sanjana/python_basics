{
  "cells": [
    {
      "cell_type": "markdown",
      "metadata": {
        "id": "h8KNkYy4ziPF"
      },
      "source": [
        "### **Python Variables, Constants and Literals**"
      ]
    },
    {
      "cell_type": "markdown",
      "metadata": {
        "id": "yN4F2vb6zrWV"
      },
      "source": [
        "## **Python Variables**\n",
        "A variable is a named location used to store data in the memory. It is helpful to think of variables as a container that holds data that can be changed later in the program. For example,"
      ]
    },
    {
      "cell_type": "code",
      "execution_count": null,
      "metadata": {
        "id": "qhLDZza0z490"
      },
      "outputs": [],
      "source": [
        "number = 10"
      ]
    },
    {
      "cell_type": "markdown",
      "metadata": {
        "id": "y1Q83on00HcA"
      },
      "source": [
        "Here, we have created a variable named number. We have assigned the value 10 to the variable.\n",
        "\n",
        "You can think of **variables as a bag to store books in it and that book can be replaced at any time**."
      ]
    },
    {
      "cell_type": "code",
      "execution_count": 1,
      "metadata": {
        "id": "5_mwlYom0GkN"
      },
      "outputs": [],
      "source": [
        "number = 10\n",
        "number = 1.1"
      ]
    },
    {
      "cell_type": "markdown",
      "metadata": {
        "id": "zXKVUjcr0fZ8"
      },
      "source": [
        "Initially, the value of number was 10. Later, it was changed to 1.1.\n",
        "\n",
        " **In Python, we don't actually assign values to the variables. Instead, Python gives the reference of the object(value) to the variable.**"
      ]
    },
    {
      "cell_type": "markdown",
      "metadata": {
        "id": "qWcJFjSR02Ep"
      },
      "source": [
        "**Assigning values to Variables in Python**\n",
        "\n",
        "As you can see from the above example, you can use the assignment operator = to assign a value to a variable."
      ]
    },
    {
      "cell_type": "markdown",
      "metadata": {
        "id": "Kix5suMM0-yE"
      },
      "source": [
        "**Example 1**: Declaring and assigning value to a variable"
      ]
    },
    {
      "cell_type": "code",
      "execution_count": null,
      "metadata": {
        "id": "j5NHLtb50qaD"
      },
      "outputs": [],
      "source": [
        "website = \"apple.com\"\n",
        "print(website)"
      ]
    },
    {
      "cell_type": "markdown",
      "metadata": {
        "id": "lld3HH9v1UWZ"
      },
      "source": [
        "# **Note:** Python is a type-inferred language, so you don't have to explicitly define the variable type. It automatically knows that apple.com is a string and declares the website variable as a string."
      ]
    },
    {
      "cell_type": "markdown",
      "metadata": {
        "id": "9giPMWXP1eRy"
      },
      "source": [
        "**Example 2**: Changing the value of a variable"
      ]
    },
    {
      "cell_type": "code",
      "execution_count": null,
      "metadata": {
        "id": "u3d_mTEC1bj5"
      },
      "outputs": [],
      "source": [
        "website = \"apple.com\"\n",
        "print(website)\n",
        "\n",
        "# assigning a new value to website\n",
        "website = \"nielit.com\"\n",
        "\n",
        "print(website)"
      ]
    },
    {
      "cell_type": "markdown",
      "metadata": {
        "id": "leL07kml11ND"
      },
      "source": [
        "**Example 3**: Assigning multiple values to multiple variables"
      ]
    },
    {
      "cell_type": "code",
      "execution_count": 1,
      "metadata": {
        "id": "c9q8EqyC137P"
      },
      "outputs": [
        {
          "name": "stdout",
          "output_type": "stream",
          "text": [
            "5\n",
            "3.2\n",
            "Hello\n"
          ]
        }
      ],
      "source": [
        "a, b, c = 5, 3.2, \"Hello\"\n",
        "\n",
        "print (a)\n",
        "print (b)\n",
        "print (c)"
      ]
    },
    {
      "cell_type": "markdown",
      "metadata": {
        "id": "rhujohBD19tG"
      },
      "source": [
        "If we want to assign the same value to multiple variables at once, we can do this as:"
      ]
    },
    {
      "cell_type": "code",
      "execution_count": null,
      "metadata": {
        "id": "KomRpFLB2DXO"
      },
      "outputs": [],
      "source": [
        "x = y = z = \"same\"\n",
        "\n",
        "print (x)\n",
        "print (y)\n",
        "print (z)"
      ]
    },
    {
      "cell_type": "markdown",
      "metadata": {
        "id": "XcVemyMQ2-cT"
      },
      "source": [
        "## **Constants**\n",
        "\n",
        "A constant is a type of variable whose value cannot be changed. It is helpful to think of constants as containers that hold information which cannot be changed later.\n",
        "\n",
        "You can think of constants as a bag to store some books which cannot be replaced once placed inside the bag.\n",
        "\n"
      ]
    },
    {
      "cell_type": "markdown",
      "metadata": {
        "id": "1co5UqzG3P5J"
      },
      "source": [
        "# **Assigning value to constant in Python**\n",
        "In Python, constants are usually declared and assigned in a module. Here, the module is a new file containing variables, functions, etc which is imported to the main file. Inside the module, constants are written in all capital letters and underscores separating the words."
      ]
    },
    {
      "cell_type": "markdown",
      "metadata": {
        "id": "bSZ2W5Er3d1E"
      },
      "source": [
        "**Example 3**: Declaring and assigning value to a constant\n",
        "Create a constant.py:"
      ]
    },
    {
      "cell_type": "code",
      "execution_count": null,
      "metadata": {
        "id": "N62Mf8a03qCH"
      },
      "outputs": [],
      "source": [
        "\n",
        "PI = 3.14\n",
        "GRAVITY = 9.8"
      ]
    },
    {
      "cell_type": "code",
      "execution_count": null,
      "metadata": {
        "id": "aBjTfXBM3yli"
      },
      "outputs": [],
      "source": [
        "import CONSTANT.PY\n",
        "\n",
        "print(CONSTANT.PI)\n",
        "print(CONSTANT.GRAVITY)"
      ]
    },
    {
      "cell_type": "markdown",
      "metadata": {
        "id": "LfGLdm9x3w4Z"
      },
      "source": [
        "Create a main.py:"
      ]
    },
    {
      "cell_type": "markdown",
      "metadata": {
        "id": "xLBwsJyv-hKb"
      },
      "source": [
        "### **Python Data Types**\n",
        "\n",
        "\n",
        "\n",
        "Every value in Python has a datatype. Since everything is an object in Python programming, data types are actually classes and variables are instance (object) of these classes.\n",
        "\n",
        "There are various data types in Python. Some of the important types are listed below.\n",
        "\n",
        "\n",
        "1.**Python Numbers**\n",
        "Integers, floating point numbers and complex numbers fall under Python numbers category. They are defined as int, float and complex classes in Python.\n",
        "\n",
        "We can use the type() function to know which class a variable or a value belongs to. Similarly, the isinstance() function is used to check if an object belongs to a particular class.\n",
        "\n",
        "\n"
      ]
    },
    {
      "cell_type": "code",
      "execution_count": null,
      "metadata": {
        "colab": {
          "base_uri": "https://localhost:8080/"
        },
        "id": "Bgkpymj-_x6X",
        "outputId": "1ec6e416-ae17-449d-e796-44135e32b685"
      },
      "outputs": [
        {
          "name": "stdout",
          "output_type": "stream",
          "text": [
            "5 is of type <class 'int'>\n",
            "2.0 is of type <class 'float'>\n",
            "(1+2j) is complex number? True\n"
          ]
        }
      ],
      "source": [
        "a = 5\n",
        "print(a, \"is of type\", type(a))\n",
        "\n",
        "a = 2.0\n",
        "print(a, \"is of type\", type(a))\n",
        "\n",
        "a = 1+2j\n",
        "print(a, \"is complex number?\", isinstance(1+2j,complex))"
      ]
    },
    {
      "cell_type": "markdown",
      "metadata": {
        "id": "7MO-VTTzAFak"
      },
      "source": [
        "Integers can be of any length, it is only limited by the memory available.\n",
        "\n",
        "A floating-point number is accurate up to 15 decimal places. Integer and floating points are separated by decimal points. 1 is an integer, 1.0 is a floating-point number.\n",
        "\n",
        "Complex numbers are written in the form, x + yj, where x is the real part and y is the imaginary part. Here are some examples.\n"
      ]
    },
    {
      "cell_type": "code",
      "execution_count": null,
      "metadata": {
        "colab": {
          "base_uri": "https://localhost:8080/"
        },
        "id": "euvS4iiOAJEp",
        "outputId": "d6becc28-eabc-47d0-a126-5148cdc91d6d"
      },
      "outputs": [
        {
          "data": {
            "text/plain": [
              "(1+2j)"
            ]
          },
          "execution_count": 10,
          "metadata": {
            "tags": []
          },
          "output_type": "execute_result"
        }
      ],
      "source": [
        ">>> a = 1234567890123456789\n",
        ">>> a\n",
        "1234567890123456789\n",
        ">>> b = 0.1234567890123456789\n",
        ">>> b\n",
        "0.12345678901234568\n",
        ">>> c = 1+2j\n",
        ">>> c\n",
        "(1+2j)\n",
        "#Notice that the float variable b got truncated."
      ]
    },
    {
      "cell_type": "markdown",
      "metadata": {
        "id": "m0ssV3I7A19w"
      },
      "source": [
        "# **2.List**\n",
        "\n",
        "\n",
        "List is an ordered sequence of items. It is one of the most used datatype in Python and is very flexible. All the items in a list do not need to be of the same type.\n",
        "\n",
        "Declaring a list is pretty straight forward. Items separated by commas are enclosed within brackets [ ].\n",
        "\n",
        "\n",
        "a = [1, 2.2, 'python']\n",
        "\n",
        "We can use the slicing operator [ ] to extract an item or a range of items from a list. The index starts from 0 in Python.\n",
        "\n",
        "\n",
        "\n"
      ]
    },
    {
      "cell_type": "code",
      "execution_count": null,
      "metadata": {
        "colab": {
          "base_uri": "https://localhost:8080/"
        },
        "id": "xrPh4cTtR893",
        "outputId": "38bb4525-ccd0-4409-b1f2-94bf12f4ab81"
      },
      "outputs": [
        {
          "name": "stdout",
          "output_type": "stream",
          "text": [
            "a[2] =  15\n",
            "a[0:3] =  [5, 10, 15]\n",
            "a[5:] =  [30, 35, 40]\n"
          ]
        }
      ],
      "source": [
        "a = [5,10,15,20,25,30,35,40]\n",
        "\n",
        "# a[2] = 15\n",
        "print(\"a[2] = \", a[2])\n",
        "\n",
        "# a[0:3] = [5, 10, 15]\n",
        "print(\"a[0:3] = \", a[0:3])\n",
        "\n",
        "# a[5:] = [30, 35, 40]\n",
        "print(\"a[5:] = \", a[5:])"
      ]
    },
    {
      "cell_type": "markdown",
      "metadata": {
        "id": "agJYT3TiSM7b"
      },
      "source": [
        "### Lists are **mutable**, meaning, the value of elements of a list can be altered."
      ]
    },
    {
      "cell_type": "code",
      "execution_count": null,
      "metadata": {
        "id": "rx6MmzqhSV-0"
      },
      "outputs": [],
      "source": [
        "a = [1, 2, 3]\n",
        "a[2] = 4\n",
        "print(a)"
      ]
    },
    {
      "cell_type": "markdown",
      "metadata": {
        "id": "v147RBD3SsBp"
      },
      "source": [
        "### **3.Tuple**\n",
        "\n",
        "Tuple is an ordered sequence of items same as a list. The only difference is that tuples are **immutable**. Tuples once created cannot be modified.\n",
        "\n",
        "Tuples are used to write-protect data and are usually faster than lists as they cannot change dynamically.\n",
        "\n",
        "It is defined within parentheses () where items are separated by commas."
      ]
    },
    {
      "cell_type": "code",
      "execution_count": null,
      "metadata": {
        "id": "FO6PfhzBTMbZ"
      },
      "outputs": [],
      "source": [
        "t = (5,'program', 1+3j)"
      ]
    },
    {
      "cell_type": "markdown",
      "metadata": {
        "id": "KHxGv-KoTU5B"
      },
      "source": [
        "We can use the **slicing operator []** to extract items but we cannot change its value."
      ]
    },
    {
      "cell_type": "code",
      "execution_count": null,
      "metadata": {
        "id": "NQ3qz4NdTdAV"
      },
      "outputs": [],
      "source": [
        "t = (5,'program', 1+3j)\n",
        "\n",
        "# t[1] = 'program'\n",
        "print(\"t[1] = \", t[1])\n",
        "\n",
        "# t[0:3] = (5, 'program', (1+3j))\n",
        "print(\"t[0:3] = \", t[0:3])\n",
        "\n",
        "# Generates error\n",
        "# Tuples are immutable\n",
        "t[0] = 10"
      ]
    },
    {
      "cell_type": "markdown",
      "metadata": {
        "id": "5kv2LVn7UP1B"
      },
      "source": [
        "### **4.Strings**\n",
        "\n",
        "String is sequence of Unicode characters. We can use single quotes or double quotes to represent strings. \n",
        "\n",
        "Multi-line strings can be denoted using triple quotes, ''' or \"\"\"."
      ]
    },
    {
      "cell_type": "code",
      "execution_count": null,
      "metadata": {
        "colab": {
          "base_uri": "https://localhost:8080/"
        },
        "id": "3-xHhM--Ub2h",
        "outputId": "6a145b1d-82ac-4cec-fc4e-f8f7f0b5369d"
      },
      "outputs": [
        {
          "name": "stdout",
          "output_type": "stream",
          "text": [
            "This is a string\n",
            "A multiline\n",
            "string\n"
          ]
        }
      ],
      "source": [
        "s = \"This is a string\"\n",
        "print(s)\n",
        "s = '''A multiline\n",
        "string'''\n",
        "print(s)"
      ]
    },
    {
      "cell_type": "markdown",
      "metadata": {
        "id": "Y43-lIvoVKFk"
      },
      "source": [
        "Just like a list and tuple, the slicing operator [ ] can be used with strings.\n",
        "\n",
        "\n",
        "**Strings, however, are immutable**"
      ]
    },
    {
      "cell_type": "code",
      "execution_count": null,
      "metadata": {
        "id": "TdSxBgvpVxn8"
      },
      "outputs": [],
      "source": [
        "s = 'Hello world!'\n",
        "\n",
        "# s[4] = 'o'\n",
        "print(\"s[4] = \", s[4])\n",
        "\n",
        "# s[6:11] = 'world'\n",
        "print(\"s[6:11] = \", s[6:11])\n",
        "\n",
        "# Generates error\n",
        "# Strings are immutable in Python\n",
        "s[5] ='d'"
      ]
    },
    {
      "cell_type": "markdown",
      "metadata": {
        "id": "CyJLJyH9WGpa"
      },
      "source": [
        "### **5.Set**\n",
        "\n",
        "\n",
        "Set is an unordered collection of unique items. \n",
        "Set is defined by values separated by comma inside braces { }. \n",
        "\n",
        "Items in a set are not ordered."
      ]
    },
    {
      "cell_type": "code",
      "execution_count": null,
      "metadata": {
        "id": "eXrQsc2kWRW9"
      },
      "outputs": [],
      "source": [
        "a = {5,2,3,1,4}\n",
        "\n",
        "# printing set variable\n",
        "print(\"a = \", a)\n",
        "\n",
        "# data type of variable a\n",
        "print(type(a))"
      ]
    },
    {
      "cell_type": "markdown",
      "metadata": {
        "id": "ClqfidHuYLr_"
      },
      "source": [
        "**We can perform set operations like union, intersection on two sets**. \n",
        "\n",
        "**Sets have unique values. They eliminate duplicates.**"
      ]
    },
    {
      "cell_type": "code",
      "execution_count": null,
      "metadata": {
        "colab": {
          "base_uri": "https://localhost:8080/"
        },
        "id": "qU9OEMZKYnAH",
        "outputId": "e1fdd263-5767-4e8a-dbce-91c21034240c"
      },
      "outputs": [
        {
          "name": "stdout",
          "output_type": "stream",
          "text": [
            "{1, 2, 3}\n"
          ]
        }
      ],
      "source": [
        "a = {1,2,2,3,3,3}\n",
        "print(a)"
      ]
    },
    {
      "cell_type": "markdown",
      "metadata": {
        "id": "E2yKHGFpuzTT"
      },
      "source": [
        "Since, set are unordered collection, indexing has no meaning. Hence, the slicing operator [] does not work."
      ]
    },
    {
      "cell_type": "code",
      "execution_count": null,
      "metadata": {
        "id": "5nrFbw_Vu1io"
      },
      "outputs": [],
      "source": [
        "a = {1,2,3}\n",
        "a[1]\n"
      ]
    },
    {
      "cell_type": "markdown",
      "metadata": {
        "id": "GX6GJHzHvcne"
      },
      "source": [
        "### **6.Python Dictionary**\n",
        "\n",
        "Dictionary is an unordered collection of key-value pairs.\n",
        "\n",
        "It is generally used when we have a huge amount of data. Dictionaries are optimized for retrieving data. We must know the key to retrieve the value.\n",
        "\n",
        "In Python, dictionaries are defined within braces {} with each item being a pair in the form key:value. Key and value can be of any type."
      ]
    },
    {
      "cell_type": "code",
      "execution_count": null,
      "metadata": {
        "colab": {
          "base_uri": "https://localhost:8080/"
        },
        "id": "USUuGxNJvln4",
        "outputId": "31d7eea5-1f5a-449c-d47c-062ad635a8ec"
      },
      "outputs": [
        {
          "data": {
            "text/plain": [
              "dict"
            ]
          },
          "execution_count": 11,
          "metadata": {
            "tags": []
          },
          "output_type": "execute_result"
        }
      ],
      "source": [
        "d = {1:'value','key':2}\n",
        "type(d)"
      ]
    },
    {
      "cell_type": "markdown",
      "metadata": {
        "id": "YQ0g0cYxwJ7X"
      },
      "source": [
        "We use key to retrieve the respective value. But not the other way around."
      ]
    },
    {
      "cell_type": "code",
      "execution_count": null,
      "metadata": {
        "colab": {
          "base_uri": "https://localhost:8080/"
        },
        "id": "lazxHMmnv_GY",
        "outputId": "9160c590-bddd-4aad-fc93-1cfb71d9c54c"
      },
      "outputs": [
        {
          "name": "stdout",
          "output_type": "stream",
          "text": [
            "d[1] =  value\n"
          ]
        }
      ],
      "source": [
        "print(\"d[1] = \", d[1])\n"
      ]
    },
    {
      "cell_type": "code",
      "execution_count": null,
      "metadata": {
        "id": "6rNDsIchwUk0"
      },
      "outputs": [],
      "source": [
        "print(\"d['key'] = \", d['key'])"
      ]
    },
    {
      "cell_type": "code",
      "execution_count": null,
      "metadata": {
        "id": "zvDurhbgwj4Z"
      },
      "outputs": [],
      "source": [
        "# Generates error\n",
        "print(\"d[2] = \", d[2]);"
      ]
    },
    {
      "cell_type": "markdown",
      "metadata": {
        "id": "hFddekLaw3dX"
      },
      "source": [
        "### **Conversion between data types**\n",
        "\n",
        "# We can convert between different data types by using different type conversion functions like int(), float(), str(), etc."
      ]
    },
    {
      "cell_type": "markdown",
      "metadata": {
        "id": "s4AWtBW6xPAy"
      },
      "source": [
        "Conversion from float to int will truncate the value (make it closer to zero)"
      ]
    },
    {
      "cell_type": "code",
      "execution_count": null,
      "metadata": {
        "id": "Tb_UvusJxBco"
      },
      "outputs": [],
      "source": [
        "int(10.6)"
      ]
    },
    {
      "cell_type": "code",
      "execution_count": null,
      "metadata": {
        "id": "6aLuVOL8xZ6f"
      },
      "outputs": [],
      "source": [
        "int(-10.6)"
      ]
    },
    {
      "cell_type": "code",
      "execution_count": null,
      "metadata": {
        "id": "jVaDmRk-xhkb"
      },
      "outputs": [],
      "source": [
        "#int to float\n",
        "float(5)"
      ]
    },
    {
      "cell_type": "markdown",
      "metadata": {
        "id": "c95kuVlQyAkd"
      },
      "source": [
        "## Conversion to and from string must contain compatible values."
      ]
    },
    {
      "cell_type": "code",
      "execution_count": null,
      "metadata": {
        "id": "dWd0iPycyEy1"
      },
      "outputs": [],
      "source": [
        "float('2.5')"
      ]
    },
    {
      "cell_type": "code",
      "execution_count": null,
      "metadata": {
        "id": "l_TFncjMyL5i"
      },
      "outputs": [],
      "source": [
        "str(25)"
      ]
    },
    {
      "cell_type": "code",
      "execution_count": null,
      "metadata": {
        "id": "YnHZk9PfyPWX"
      },
      "outputs": [],
      "source": [
        "#generates error\n",
        "int('1p')"
      ]
    },
    {
      "cell_type": "markdown",
      "metadata": {
        "id": "aoAQvGH1yaDS"
      },
      "source": [
        "### We can even convert one sequence to another."
      ]
    },
    {
      "cell_type": "code",
      "execution_count": null,
      "metadata": {
        "id": "ULGBZroUyjxu"
      },
      "outputs": [],
      "source": [
        "set([1,2,3])"
      ]
    },
    {
      "cell_type": "code",
      "execution_count": null,
      "metadata": {
        "id": "UerdJ1mbyyPP"
      },
      "outputs": [],
      "source": [
        "tuple({5,6,7})"
      ]
    },
    {
      "cell_type": "code",
      "execution_count": null,
      "metadata": {
        "id": "qsR5w5OSy1op"
      },
      "outputs": [],
      "source": [
        "list('hello')"
      ]
    },
    {
      "cell_type": "markdown",
      "metadata": {
        "id": "LaMeBAZSzCeL"
      },
      "source": [
        "# To convert to dictionary, each element must be a pair"
      ]
    },
    {
      "cell_type": "code",
      "execution_count": null,
      "metadata": {
        "id": "jOGACuY-y-QZ"
      },
      "outputs": [],
      "source": [
        "dict([[1,2],[3,4]])"
      ]
    },
    {
      "cell_type": "code",
      "execution_count": null,
      "metadata": {
        "id": "pj8KIRxSzLGu"
      },
      "outputs": [],
      "source": [
        "dict([(3,26),(4,44)])"
      ]
    },
    {
      "cell_type": "markdown",
      "metadata": {
        "id": "e9kDNP-585M0"
      },
      "source": [
        "### **Basic Programs**"
      ]
    },
    {
      "cell_type": "code",
      "execution_count": null,
      "metadata": {
        "colab": {
          "base_uri": "https://localhost:8080/"
        },
        "id": "ldX8DGpkaiqX",
        "outputId": "7eb0ac2a-06a3-4382-e1ce-424ab851ef30"
      },
      "outputs": [
        {
          "name": "stdout",
          "output_type": "stream",
          "text": [
            "the sum of two numbers=7.800000\n"
          ]
        }
      ],
      "source": [
        "# This program adds two numbers \n",
        "\n",
        "num1 = 1.5\n",
        "num2 = 6.3\n",
        "\n",
        "# Add two numbers\n",
        "sum = num1 + num2\n",
        "\n",
        "# Display the sum\n",
        "print(\"the sum of two numbers=%f\" %sum)"
      ]
    },
    {
      "cell_type": "code",
      "execution_count": null,
      "metadata": {
        "id": "iq-Vw6osaXoz"
      },
      "outputs": [],
      "source": [
        "#Add Two Numbers With User Input\n",
        "# Store input numbers\n",
        "num1 = input('Enter first number: ')\n",
        "num2 = input('Enter second number: ')\n",
        "# Add two numbers\n",
        "sum = float(num1) + float(num2)\n",
        " \n",
        "# Display the sum\n",
        "print(\"the sum of two numbers=%f\" %sum)\n",
        "\n"
      ]
    },
    {
      "cell_type": "code",
      "execution_count": null,
      "metadata": {
        "colab": {
          "base_uri": "https://localhost:8080/"
        },
        "id": "S4J6BRp2a7yA",
        "outputId": "693a0464-f1b3-45ed-973d-bbf70c44f5df"
      },
      "outputs": [
        {
          "name": "stdout",
          "output_type": "stream",
          "text": [
            "The area of the triangle is 14.697\n"
          ]
        }
      ],
      "source": [
        "# Python Program to find the area of triangle\n",
        "\n",
        "a = 5\n",
        "b = 6\n",
        "c = 7\n",
        "\n",
        "# Uncomment below to take inputs from the user\n",
        "# a = float(input('Enter first side: '))\n",
        "# b = float(input('Enter second side: '))\n",
        "# c = float(input('Enter third side: '))\n",
        "\n",
        "# calculate the semi-perimeter\n",
        "s = (a + b + c) / 2\n",
        "\n",
        "# calculate the area\n",
        "area = (s*(s-a)*(s-b)*(s-c)) ** 0.5\n",
        "print('The area of the triangle is %0.3f' %area)"
      ]
    },
    {
      "cell_type": "code",
      "execution_count": null,
      "metadata": {
        "colab": {
          "base_uri": "https://localhost:8080/"
        },
        "id": "WFyZTme5bSMj",
        "outputId": "de4a6816-5455-4174-ab9c-d453a36ae1d4"
      },
      "outputs": [
        {
          "name": "stdout",
          "output_type": "stream",
          "text": [
            "fahrenheit=99.500000\n"
          ]
        }
      ],
      "source": [
        "# Python Program to convert temperature in celsius to fahrenheit\n",
        "\n",
        "# change this value for a different result\n",
        "celsius = 37.5\n",
        "\n",
        "# calculate fahrenheit\n",
        "fahrenheit = (celsius * 1.8) + 32\n",
        "print(\"fahrenheit=%f\" %fahrenheit)"
      ]
    },
    {
      "cell_type": "code",
      "execution_count": null,
      "metadata": {
        "colab": {
          "base_uri": "https://localhost:8080/"
        },
        "id": "bJDPZ8t5bool",
        "outputId": "2f764c18-1118-42af-fcb3-3089c413152b"
      },
      "outputs": [
        {
          "name": "stdout",
          "output_type": "stream",
          "text": [
            "The value of x after swapping =10\n",
            "The value of y after swapping =5\n"
          ]
        }
      ],
      "source": [
        "# Python program to swap two variables\n",
        "\n",
        "x = 5\n",
        "y = 10\n",
        "\n",
        "# To take inputs from the user\n",
        "#x = input('Enter value of x: ')\n",
        "#y = input('Enter value of y: ')\n",
        "\n",
        "# create a temporary variable and swap the values\n",
        "temp = x\n",
        "x = y\n",
        "y = temp\n",
        "\n",
        "print(\"The value of x after swapping =%d\" %x)\n",
        "print(\"The value of y after swapping =%d\" %y)"
      ]
    },
    {
      "cell_type": "code",
      "execution_count": null,
      "metadata": {
        "id": "9kBqKZZ5b00A"
      },
      "outputs": [],
      "source": [
        "# Python Program to find Sum of Digits of a  three digit Number \n",
        "\n",
        "Number = int(input(\"Please Enter any Number: \"))\n",
        "Sum = 0\n",
        "Reminder=0\n",
        "     \n",
        "Reminder = Number % 10\n",
        "Sum = Sum + Reminder\n",
        "Number = Number //10\n",
        "\n",
        "Reminder = Number % 10\n",
        "Sum = Sum + Reminder\n",
        "Number = Number //10\n",
        "\n",
        "Sum = Sum + Number\n",
        "print(\"\\n Sum of the digits of Given Number is\",Sum)"
      ]
    },
    {
      "cell_type": "code",
      "execution_count": null,
      "metadata": {
        "id": "9p_eiLghedcx"
      },
      "outputs": [],
      "source": [
        "# Python Program to reverse the Digits of a  three digit Number \n",
        "\n",
        "Number = int(input(\"Please Enter any Number: \"))\n",
        "Sum = 0\n",
        "Reminder=0\n",
        "     \n",
        "Reminder = Number % 10\n",
        "Sum = Sum*10 + Reminder\n",
        "Number = Number //10\n",
        "\n",
        "Reminder = Number % 10\n",
        "Sum = Sum*10 + Reminder\n",
        "Number = Number //10\n",
        "\n",
        "Sum = Sum*10 + Number\n",
        "print(\"\\n Reverse of Given Number = %d\" %Sum)"
      ]
    },
    {
      "cell_type": "markdown",
      "metadata": {
        "id": "9V9PIOYR9L_V"
      },
      "source": [
        "### If-else **Condition**"
      ]
    },
    {
      "cell_type": "code",
      "execution_count": null,
      "metadata": {
        "id": "SsprkpAR78va"
      },
      "outputs": [],
      "source": [
        "#Greatest of two numbers in Python\n",
        "num1=int(input(\"Enter your first number:\"))\n",
        "num2=int(input(\"Enter your second number: \"))\n",
        "if(num1>num2):\n",
        "    print(\"num1=%d\"%num1)\n",
        "elif(num2>num1):\n",
        "    print(\"num2=\"%num2)\n",
        "else:\n",
        "    print(\"num1 and num2 are equal\")"
      ]
    },
    {
      "cell_type": "code",
      "execution_count": null,
      "metadata": {
        "id": "9_Q0qbHw93-Q"
      },
      "outputs": [],
      "source": [
        "# Python program to find the largest number among the three input numbers\n",
        "\n",
        "# change the values of num1, num2 and num3\n",
        "# for a different result\n",
        "#num1 = 10\n",
        "#num2 = 14\n",
        "#num3 = 12\n",
        "\n",
        "# uncomment following lines to take three numbers from user\n",
        "num1 = float(input(\"Enter first number: \"))\n",
        "num2 = float(input(\"Enter second number: \"))\n",
        "num3 = float(input(\"Enter third number: \"))\n",
        "\n",
        "if (num1 >= num2) and (num1 >= num3):\n",
        "   largest = num1\n",
        "elif (num2 >= num1) and (num2 >= num3):\n",
        "   largest = num2\n",
        "else:\n",
        "   largest = num3\n",
        "\n",
        "print(\"The largest number is\", largest)"
      ]
    },
    {
      "cell_type": "code",
      "execution_count": null,
      "metadata": {
        "id": "iaGAqfi4-ycz"
      },
      "outputs": [],
      "source": [
        "# input three integer numbers using nested else if\n",
        "a=int(input(\"Enter A: \"))\n",
        "b=int(input(\"Enter B: \"))\n",
        "c=int(input(\"Enter C: \"))\n",
        "\n",
        "# conditions to find largest \n",
        "if a>b:\n",
        "    if a>c:\n",
        "        g=a\n",
        "    else:\n",
        "        g=c\n",
        "else:\n",
        "    if b>c:\n",
        "        g=b\n",
        "    else:\n",
        "        g=c\n",
        "\n",
        "# print the largest number \n",
        "print(\"Greater =%d \"%g)"
      ]
    },
    {
      "cell_type": "code",
      "execution_count": null,
      "metadata": {
        "id": "Hto9kKKRru-t"
      },
      "outputs": [],
      "source": [
        "#Program to Check if a Number is Positive, Negative or 0\n",
        "num = float(input(\"Enter a number: \"))\n",
        "if num > 0:\n",
        "   print(\"Positive number\")\n",
        "elif num == 0:\n",
        "   print(\"Zero\")\n",
        "else:\n",
        "   print(\"Negative number\")"
      ]
    },
    {
      "cell_type": "code",
      "execution_count": null,
      "metadata": {
        "id": "uREaZR4qrjho"
      },
      "outputs": [],
      "source": [
        "# Python program to check if year is a leap year or not\n",
        "\n",
        "year = 2400\n",
        "\n",
        "# To get year (integer input) from the user\n",
        "# year = int(input(\"Enter a year: \"))\n",
        "\n",
        "if (year % 4) == 0:\n",
        "   if (year % 100) == 0:\n",
        "       if (year % 400) == 0:\n",
        "           print(\"{0} is a leap year\".format(year))\n",
        "       else:\n",
        "           print(\"{0} is not a leap year\".format(year))\n",
        "   else:\n",
        "       print(\"{0} is a leap year\".format(year))\n",
        "else:\n",
        "   print(\"{0} is not a leap year\".format(year))"
      ]
    },
    {
      "cell_type": "code",
      "execution_count": null,
      "metadata": {
        "id": "szC0z8jXrl2R"
      },
      "outputs": [],
      "source": [
        "# Python program to check if the input number is odd or even.\n",
        "# A number is even if division by 2 gives a remainder of 0.\n",
        "# If the remainder is 1, it is an odd number.\n",
        "\n",
        "num = int(input(\"Enter a number: \"))\n",
        "if (num % 2) == 0:\n",
        "   print(num,\"is even number\")\n",
        "else:\n",
        "   print(num,\"is odd number\")"
      ]
    },
    {
      "cell_type": "markdown",
      "metadata": {
        "id": "FYAXgFinqB1X"
      },
      "source": [
        "### **Loops in Python**\n",
        "### **While Loop**\n"
      ]
    },
    {
      "cell_type": "code",
      "execution_count": null,
      "metadata": {
        "id": "EDGcOAK9A-L5"
      },
      "outputs": [],
      "source": [
        "\n",
        "# Python Program to find Sum of Digits of a Number using While Loop\n",
        "Number = int(input(\"Please Enter any Number: \"))\n",
        "Sum = 0\n",
        "\n",
        "while(Number > 0):\n",
        "    Reminder = Number % 10\n",
        "    Sum = Sum + Reminder\n",
        "    Number = Number //10\n",
        "\n",
        "print(\"\\n Sum of the digits of Given Number = %d\" %Sum)"
      ]
    },
    {
      "cell_type": "code",
      "execution_count": null,
      "metadata": {
        "id": "d45sU1Yjh8xc"
      },
      "outputs": [],
      "source": [
        "# Python Program to reverse a Number using While Loop\n",
        "\n",
        "Number = int(input(\"Please Enter any Number: \"))\n",
        "Sum = 0\n",
        "\n",
        "while(Number > 0):\n",
        "    Reminder = Number % 10\n",
        "    Sum = Sum*10 + Reminder\n",
        "    Number = Number //10\n",
        "\n",
        "print(\"\\n Reversible number Number = %d\" %Sum)"
      ]
    },
    {
      "cell_type": "code",
      "execution_count": null,
      "metadata": {
        "colab": {
          "base_uri": "https://localhost:8080/"
        },
        "id": "zH5iUAtnivJ3",
        "outputId": "cab58ae6-ea0d-4096-df67-c09a8da2aea4"
      },
      "outputs": [
        {
          "name": "stdout",
          "output_type": "stream",
          "text": [
            "Please Enter any Number: 153\n",
            "153 is not an armstrong number\n"
          ]
        }
      ],
      "source": [
        "#program to check whether a given number is armstrong or not\n",
        "Number = int(input(\"Please Enter any Number: \"))\n",
        "Sum = 0\n",
        "temp=Number\n",
        "while(Number > 0):\n",
        "    Reminder = Number % 10\n",
        "    Sum = Sum + Reminder**3\n",
        "    Number //=10\n",
        "if temp==sum:\n",
        "  print(temp,\"is an armstrong number\")\n",
        "else:\n",
        "  print(temp,\"is not an armstrong number\")\n"
      ]
    },
    {
      "cell_type": "code",
      "execution_count": null,
      "metadata": {
        "id": "n5Z8tSuctQQ0"
      },
      "outputs": [],
      "source": [
        "# Sum of natural numbers up to num\n",
        "\n",
        "num = 16\n",
        "\n",
        "if num < 0:\n",
        "   print(\"Enter a positive number\")\n",
        "else:\n",
        "   sum = 0\n",
        "   # use while loop to iterate until zero\n",
        "   while(num > 0):\n",
        "       sum += num\n",
        "       num -= 1\n",
        "   print(\"The sum is\", sum)"
      ]
    },
    {
      "cell_type": "code",
      "execution_count": null,
      "metadata": {
        "id": "BYMHrsUboL_-"
      },
      "outputs": [],
      "source": [
        "# Program to display the Fibonacci sequence up to n-th term\n",
        "\n",
        "nterms = int(input(\"How many terms? \"))\n",
        "\n",
        "# first two terms\n",
        "n1, n2 = 0, 1\n",
        "count = 0\n",
        "\n",
        "# check if the number of terms is valid\n",
        "if nterms <= 0:\n",
        "   print(\"Please enter a positive integer\")\n",
        "elif nterms == 1:\n",
        "   print(\"Fibonacci sequence upto\",nterms,\":\")\n",
        "   print(n1)\n",
        "else:\n",
        "   print(\"Fibonacci sequence:\")\n",
        "   while count < nterms:\n",
        "       print(n1)\n",
        "       nth = n1 + n2\n",
        "       # update values\n",
        "       n1 = n2\n",
        "       n2 = nth\n",
        "       count += 1"
      ]
    },
    {
      "cell_type": "code",
      "execution_count": null,
      "metadata": {
        "id": "10FYqq71oYYE"
      },
      "outputs": [],
      "source": [
        "# Python program to find the factorial of a number provided by the user.\n",
        "\n",
        "# change the value for a different result\n",
        "num = 7\n",
        "temp=num\n",
        "# To take input from the user\n",
        "#num = int(input(\"Enter a number: \"))\n",
        "\n",
        "factorial = 1\n",
        "\n",
        "# check if the number is negative, positive or zero\n",
        "if num < 0:\n",
        "   print(\"Sorry, factorial does not exist for negative numbers\")\n",
        "elif num == 0:\n",
        "   print(\"The factorial of 0 is 1\")\n",
        "else:\n",
        "   while num>0:\n",
        "       factorial = factorial*num\n",
        "       num=num-1\n",
        "   print(\"The factorial of\",temp,\"is\",factorial)"
      ]
    },
    {
      "cell_type": "markdown",
      "metadata": {
        "id": "gXuCQYFTYP26"
      },
      "source": [
        "### **range()**\n",
        "The range() type returns an immutable sequence of numbers between the given start integer to the stop integer.\n",
        "\n",
        "range() constructor has two forms of definition:\n",
        "\n",
        "range(stop)\n",
        "range(start, stop[, step])\n",
        "\n",
        "**range() Parameters**\n",
        "\n",
        "range() takes mainly three arguments having the same use in both definitions:\n",
        "\n",
        "1.start - integer starting from which the sequence of integers is to be returned\n",
        "\n",
        "2.stop - integer before which the sequence of integers is to be returned.\n",
        "The range of integers ends at stop - 1.\n",
        "\n",
        "3.step (Optional) - integer value which determines the increment between each integer in the sequence"
      ]
    },
    {
      "cell_type": "code",
      "execution_count": null,
      "metadata": {
        "id": "1x32e9EPYzaI"
      },
      "outputs": [],
      "source": [
        "# Print first 10 numbers\n",
        "\n",
        "# stop = 10\n",
        "for i in range(10):\n",
        "    print(i, end=' ')\n",
        "# Output 0 1 2 3 4 5 6 7 8 9\n",
        "#Note:Here, start = 0 and step = 1 as a default value.\n",
        "#If you set the stop as a 0 or some negative value, then the range will return an empty sequence.\n",
        "#If you want to start the range at 1 use range(1, 10)."
      ]
    },
    {
      "cell_type": "code",
      "execution_count": null,
      "metadata": {
        "id": "PME5RU7FaHen"
      },
      "outputs": [],
      "source": [
        "#range(start, stop)\n",
        "#When you pass two arguments to the range(), it will generate integers starting from the start number to stop -1.\n",
        "\n",
        "# Numbers from 10 to 15\n",
        "# start = 10\n",
        "# stop = 16\n",
        "for i in range(10, 16):\n",
        "    print(i, end=' ')\n",
        "# Output 10 11 12 13 14 15\n",
        "#Note Here, the step = 1 as a default value.\n",
        "#The range will return an empty sequence if you set the stop value lesser than the start."
      ]
    },
    {
      "cell_type": "markdown",
      "metadata": {
        "id": "8BEAXprmbEFv"
      },
      "source": [
        "range(start, stop, step)\n",
        "When you pass all three arguments to the range(), it will return a sequence of numbers, starting from the start number, increments by step number, and stops before a stop number.\n",
        "\n",
        "Here you can specify a different increment by adding a step parameter."
      ]
    },
    {
      "cell_type": "code",
      "execution_count": null,
      "metadata": {
        "colab": {
          "base_uri": "https://localhost:8080/"
        },
        "id": "La96yafDa3oz",
        "outputId": "f2fc8214-2c92-4ac8-abbc-2bb1d1d1f572"
      },
      "outputs": [
        {
          "name": "stdout",
          "output_type": "stream",
          "text": [
            "10 15 20 25 30 35 40 45 "
          ]
        }
      ],
      "source": [
        "# Numbers from 10 to 15\n",
        "# start = 10\n",
        "# stop = 50\n",
        "# step = 5\n",
        "for i in range(10, 50, 5):\n",
        "    print(i, end=' ')\n",
        "# Output 10 15 20 25 30 35 40 45\n"
      ]
    },
    {
      "cell_type": "markdown",
      "metadata": {
        "id": "FiK0UXzApD6-"
      },
      "source": [
        "### **For Loop**"
      ]
    },
    {
      "cell_type": "code",
      "execution_count": null,
      "metadata": {
        "id": "1Xo8pCtanAXs"
      },
      "outputs": [],
      "source": [
        "# Program to check if a number is prime or not\n",
        "\n",
        "num = 407\n",
        "\n",
        "# To take input from the user\n",
        "#num = int(input(\"Enter a number: \"))\n",
        "\n",
        "# prime numbers are greater than 1\n",
        "if num > 1:\n",
        "   # check for factors\n",
        "   for i in range(2,num):\n",
        "       if (num % i) == 0:\n",
        "           print(num,\"is not a prime number\")\n",
        "           print(i,\"times\",num//i,\"is\",num)\n",
        "           break\n",
        "   else:\n",
        "       print(num,\"is a prime number\")\n",
        "       \n",
        "# if input number is less than\n",
        "# or equal to 1, it is not prime\n",
        "else:\n",
        "   print(num,\"is not a prime number\")"
      ]
    },
    {
      "cell_type": "code",
      "execution_count": null,
      "metadata": {
        "id": "7Cs_UDcFneTj"
      },
      "outputs": [],
      "source": [
        "# Python program to display all the prime numbers within an interval\n",
        "\n",
        "lower = 900\n",
        "upper = 1000\n",
        "\n",
        "print(\"Prime numbers between\", lower, \"and\", upper, \"are:\")\n",
        "\n",
        "for num in range(lower, upper + 1):\n",
        "   # all prime numbers are greater than 1\n",
        "   if num > 1:\n",
        "       for i in range(2, num):\n",
        "           if (num % i) == 0:\n",
        "               break\n",
        "       else:\n",
        "           print(num)"
      ]
    },
    {
      "cell_type": "code",
      "execution_count": null,
      "metadata": {
        "id": "ZPmJwsxgngAG"
      },
      "outputs": [],
      "source": [
        "# Python program to find the factorial of a number provided by the user.\n",
        "\n",
        "# change the value for a different result\n",
        "num = 7\n",
        "\n",
        "# To take input from the user\n",
        "#num = int(input(\"Enter a number: \"))\n",
        "\n",
        "factorial = 1\n",
        "\n",
        "# check if the number is negative, positive or zero\n",
        "if num < 0:\n",
        "   print(\"Sorry, factorial does not exist for negative numbers\")\n",
        "elif num == 0:\n",
        "   print(\"The factorial of 0 is 1\")\n",
        "else:\n",
        "   for i in range(1,num + 1):\n",
        "       factorial = factorial*i\n",
        "   print(\"The factorial of\",num,\"is\",factorial)"
      ]
    },
    {
      "cell_type": "code",
      "execution_count": null,
      "metadata": {
        "colab": {
          "base_uri": "https://localhost:8080/"
        },
        "id": "cdV4cdOhnuLX",
        "outputId": "6206bf3e-154d-49b5-cff8-8400dd5a831c"
      },
      "outputs": [
        {
          "name": "stdout",
          "output_type": "stream",
          "text": [
            "12 x 1 = 12\n",
            "12 x 2 = 24\n",
            "12 x 3 = 36\n",
            "12 x 4 = 48\n",
            "12 x 5 = 60\n",
            "12 x 6 = 72\n",
            "12 x 7 = 84\n",
            "12 x 8 = 96\n",
            "12 x 9 = 108\n",
            "12 x 10 = 120\n"
          ]
        }
      ],
      "source": [
        "# Multiplication table (from 1 to 10) in Python\n",
        "\n",
        "num = 12\n",
        "\n",
        "# To take input from the user\n",
        "# num = int(input(\"Display multiplication table of? \"))\n",
        "\n",
        "# Iterate 10 times from i = 1 to 10\n",
        "for i in range(1, 11):\n",
        "   print(num, 'x', i, '=', num*i)"
      ]
    },
    {
      "cell_type": "code",
      "execution_count": null,
      "metadata": {
        "id": "OoMsqxnLn6YG"
      },
      "outputs": [],
      "source": [
        "# Program to find the sum of all numbers stored in a list\n",
        "\n",
        "# List of numbers\n",
        "numbers = [6, 5, 3, 8, 4, 2, 5, 4, 11]\n",
        "\n",
        "# variable to store the sum\n",
        "sum = 0\n",
        "\n",
        "# iterate over the list\n",
        "for val in numbers:\n",
        "\tsum = sum+val\n",
        "\n",
        "print(\"The sum is=%d\" %sum)"
      ]
    },
    {
      "cell_type": "code",
      "execution_count": null,
      "metadata": {
        "colab": {
          "base_uri": "https://localhost:8080/"
        },
        "id": "E-r93ycdpYqB",
        "outputId": "12018682-6cc4-4ee0-bc27-1fe42f958f27"
      },
      "outputs": [
        {
          "name": "stdout",
          "output_type": "stream",
          "text": [
            "Please Enter any Number: 123\n",
            "\n",
            " Sum of the digits of Given Number = 0\n"
          ]
        }
      ],
      "source": [
        "# Python Program to find Sum of Digits of a Number using for Loop\n",
        "#wont run as val is used in list tuple string\n",
        "Number = input(\"Please Enter any Number: \")\n",
        "Sum = 0\n",
        "\n",
        "for val in Number:\n",
        "    sum=sum+int(val)\n",
        "\n",
        "print(\"\\n Sum of the digits of Given Number = %d\" %Sum)"
      ]
    },
    {
      "cell_type": "code",
      "execution_count": null,
      "metadata": {
        "colab": {
          "base_uri": "https://localhost:8080/"
        },
        "id": "W8jV9epJpyy0",
        "outputId": "f48726d7-63ca-4e5c-e009-4bd7e43ae696"
      },
      "outputs": [
        {
          "name": "stdout",
          "output_type": "stream",
          "text": [
            "Enter a number: 123\n",
            "The sum of digits of number is 6\n"
          ]
        }
      ],
      "source": [
        "#sum of digits of a number\n",
        "num = input(\"Enter a number: \")\n",
        "# initializing sum to zero\n",
        "sum = 0\n",
        "# going through every digit using every for loop\n",
        "for i in num:\n",
        "    sum += int(i)\n",
        "# printing the sum\n",
        "print(\"The sum of digits of number is\",sum)"
      ]
    },
    {
      "cell_type": "code",
      "execution_count": null,
      "metadata": {
        "id": "L04cfTqZs9Y_"
      },
      "outputs": [],
      "source": [
        "# Program to check Armstrong numbers in a certain interval\n",
        "\n",
        "lower = 100\n",
        "upper = 2000\n",
        "\n",
        "for num in range(lower, upper + 1):\n",
        "\n",
        "   # order of number\n",
        "   order = len(str(num))\n",
        "    \n",
        "   # initialize sum\n",
        "   sum = 0\n",
        "\n",
        "   temp = num\n",
        "   while temp > 0:\n",
        "       digit = temp % 10\n",
        "       sum += digit ** order\n",
        "       temp //= 10\n",
        "\n",
        "   if num == sum:\n",
        "       print(num)"
      ]
    }
  ],
  "metadata": {
    "colab": {
      "provenance": []
    },
    "kernelspec": {
      "display_name": "Python 3",
      "language": "python",
      "name": "python3"
    },
    "language_info": {
      "codemirror_mode": {
        "name": "ipython",
        "version": 3
      },
      "file_extension": ".py",
      "mimetype": "text/x-python",
      "name": "python",
      "nbconvert_exporter": "python",
      "pygments_lexer": "ipython3",
      "version": "3.10.10"
    },
    "vscode": {
      "interpreter": {
        "hash": "d5bd35e4fb1c7c56cb1f97e1531e02ca7c2c2defad7a03edbc16903e9e0c4359"
      }
    }
  },
  "nbformat": 4,
  "nbformat_minor": 0
}
